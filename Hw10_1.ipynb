{
  "nbformat": 4,
  "nbformat_minor": 0,
  "metadata": {
    "colab": {
      "provenance": [],
      "authorship_tag": "ABX9TyOsn4X4mdC1LXoJVDQ0k+e+",
      "include_colab_link": true
    },
    "kernelspec": {
      "name": "python3",
      "display_name": "Python 3"
    },
    "language_info": {
      "name": "python"
    }
  },
  "cells": [
    {
      "cell_type": "markdown",
      "metadata": {
        "id": "view-in-github",
        "colab_type": "text"
      },
      "source": [
        "<a href=\"https://colab.research.google.com/github/koc90/part_3_homework_10/blob/main/Hw10_1.ipynb\" target=\"_parent\"><img src=\"https://colab.research.google.com/assets/colab-badge.svg\" alt=\"Open In Colab\"/></a>"
      ]
    },
    {
      "cell_type": "code",
      "execution_count": 1,
      "metadata": {
        "id": "ZxvuDq_j1jNu"
      },
      "outputs": [],
      "source": [
        "from tensorflow import keras\n",
        "import numpy as np\n",
        "import matplotlib.pyplot as plt"
      ]
    },
    {
      "cell_type": "code",
      "source": [
        "from keras.datasets import fashion_mnist"
      ],
      "metadata": {
        "id": "mAnTHzTD2Fgw"
      },
      "execution_count": 2,
      "outputs": []
    },
    {
      "cell_type": "code",
      "source": [
        "(x_train, y_train), (x_test, y_test) = fashion_mnist.load_data()\n",
        "assert x_train.shape == (60000, 28, 28)\n",
        "assert x_test.shape == (10000, 28, 28)\n",
        "assert y_train.shape == (60000,)\n",
        "assert y_test.shape == (10000,)\n"
      ],
      "metadata": {
        "id": "9u6YthVX4JFI",
        "colab": {
          "base_uri": "https://localhost:8080/"
        },
        "outputId": "591b82de-5a0f-4209-f665-822a8098ab37"
      },
      "execution_count": 3,
      "outputs": [
        {
          "output_type": "stream",
          "name": "stdout",
          "text": [
            "Downloading data from https://storage.googleapis.com/tensorflow/tf-keras-datasets/train-labels-idx1-ubyte.gz\n",
            "29515/29515 [==============================] - 0s 0us/step\n",
            "Downloading data from https://storage.googleapis.com/tensorflow/tf-keras-datasets/train-images-idx3-ubyte.gz\n",
            "26421880/26421880 [==============================] - 0s 0us/step\n",
            "Downloading data from https://storage.googleapis.com/tensorflow/tf-keras-datasets/t10k-labels-idx1-ubyte.gz\n",
            "5148/5148 [==============================] - 0s 0us/step\n",
            "Downloading data from https://storage.googleapis.com/tensorflow/tf-keras-datasets/t10k-images-idx3-ubyte.gz\n",
            "4422102/4422102 [==============================] - 0s 0us/step\n"
          ]
        }
      ]
    },
    {
      "cell_type": "code",
      "source": [
        "train_samples_num = x_train.shape[0]\n",
        "print(train_samples_num)\n",
        "print(type(train_samples_num))"
      ],
      "metadata": {
        "colab": {
          "base_uri": "https://localhost:8080/"
        },
        "id": "JoiLbpPClbwn",
        "outputId": "32dcb7e1-6d95-40c8-ae39-a4a2368847dd"
      },
      "execution_count": 4,
      "outputs": [
        {
          "output_type": "stream",
          "name": "stdout",
          "text": [
            "60000\n",
            "<class 'int'>\n"
          ]
        }
      ]
    },
    {
      "cell_type": "code",
      "source": [
        "\n",
        "fm_label = {\n",
        "0:\t\"T-shirt/top\",\n",
        "1:\t\"Trouser\",\n",
        "2:\t\"Pullover\",\n",
        "3:\t\"Dress\",\n",
        "4:\t\"Coat\",\n",
        "5:\t\"Sandal\",\n",
        "6:\t\"Shirt\",\n",
        "7:\t\"Sneaker\",\n",
        "8:\t\"Bag\",\n",
        "9:\t\"Ankle boot\"\n",
        "}"
      ],
      "metadata": {
        "id": "Rf-qYekZ5RdW"
      },
      "execution_count": 5,
      "outputs": []
    },
    {
      "cell_type": "code",
      "source": [
        "x_train = x_train.reshape((60000, 28, 28, 1))\n",
        "x_train = x_train.astype(\"float32\") / 255\n",
        "x_test = x_test.reshape((10000, 28, 28, 1))\n",
        "x_test = x_test.astype(\"float32\") / 255\n",
        "y_train = keras.utils.to_categorical(y_train)\n",
        "y_test = keras.utils.to_categorical(y_test)"
      ],
      "metadata": {
        "id": "GlSqEVwy40Vm"
      },
      "execution_count": 7,
      "outputs": []
    },
    {
      "cell_type": "code",
      "source": [
        "input_shape = x_train[0].shape\n",
        "print(input_shape)"
      ],
      "metadata": {
        "colab": {
          "base_uri": "https://localhost:8080/"
        },
        "id": "s-G6Is2u6jnS",
        "outputId": "47e3eec2-f4e2-4608-b3d5-255d61289473"
      },
      "execution_count": 8,
      "outputs": [
        {
          "output_type": "stream",
          "name": "stdout",
          "text": [
            "(28, 28, 1)\n"
          ]
        }
      ]
    },
    {
      "cell_type": "code",
      "source": [
        "model = keras.models.Sequential(\n",
        "    [\n",
        "        keras.layers.Conv2D(20, (3, 3), activation=\"relu\",\n",
        "        input_shape=input_shape),\n",
        "        keras.layers.MaxPooling2D((2, 2)),\n",
        "        keras.layers.Flatten(),\n",
        "        keras.layers.Dense(200, activation='relu'),\n",
        "        keras.layers.Dropout(rate=0.01),\n",
        "        keras.layers.Dense(10, activation='softmax')\n",
        "    ]\n",
        ")"
      ],
      "metadata": {
        "id": "DF0YecT16IVX"
      },
      "execution_count": 9,
      "outputs": []
    },
    {
      "cell_type": "code",
      "source": [
        "model.summary()"
      ],
      "metadata": {
        "colab": {
          "base_uri": "https://localhost:8080/"
        },
        "id": "w85P9RvUvx2g",
        "outputId": "f50b3d3b-3a55-4cff-a44c-e33fdd2c6ac2"
      },
      "execution_count": 10,
      "outputs": [
        {
          "output_type": "stream",
          "name": "stdout",
          "text": [
            "Model: \"sequential\"\n",
            "_________________________________________________________________\n",
            " Layer (type)                Output Shape              Param #   \n",
            "=================================================================\n",
            " conv2d (Conv2D)             (None, 26, 26, 20)        200       \n",
            "                                                                 \n",
            " max_pooling2d (MaxPooling2  (None, 13, 13, 20)        0         \n",
            " D)                                                              \n",
            "                                                                 \n",
            " flatten (Flatten)           (None, 3380)              0         \n",
            "                                                                 \n",
            " dense (Dense)               (None, 200)               676200    \n",
            "                                                                 \n",
            " dropout (Dropout)           (None, 200)               0         \n",
            "                                                                 \n",
            " dense_1 (Dense)             (None, 10)                2010      \n",
            "                                                                 \n",
            "=================================================================\n",
            "Total params: 678410 (2.59 MB)\n",
            "Trainable params: 678410 (2.59 MB)\n",
            "Non-trainable params: 0 (0.00 Byte)\n",
            "_________________________________________________________________\n"
          ]
        }
      ]
    },
    {
      "cell_type": "code",
      "source": [
        "model.compile(optimizer='adam',\n",
        "              loss=\"categorical_crossentropy\",\n",
        "              metrics='accuracy',\n",
        ")"
      ],
      "metadata": {
        "id": "BmhZEGit8_H7"
      },
      "execution_count": 11,
      "outputs": []
    },
    {
      "cell_type": "code",
      "source": [
        "model.fit(x=x_train,\n",
        "          y=y_train,\n",
        "          batch_size=64,\n",
        "          epochs=8,\n",
        "          validation_split=0.1,\n",
        ")"
      ],
      "metadata": {
        "colab": {
          "base_uri": "https://localhost:8080/"
        },
        "id": "rqsBJQXv9WxX",
        "outputId": "b0b4a27e-e6f5-49c9-9518-7b731090ccb8"
      },
      "execution_count": 12,
      "outputs": [
        {
          "output_type": "stream",
          "name": "stdout",
          "text": [
            "Epoch 1/8\n",
            "844/844 [==============================] - 37s 42ms/step - loss: 0.4356 - accuracy: 0.8467 - val_loss: 0.3256 - val_accuracy: 0.8833\n",
            "Epoch 2/8\n",
            "844/844 [==============================] - 27s 32ms/step - loss: 0.2961 - accuracy: 0.8956 - val_loss: 0.2942 - val_accuracy: 0.8937\n",
            "Epoch 3/8\n",
            "844/844 [==============================] - 24s 29ms/step - loss: 0.2494 - accuracy: 0.9100 - val_loss: 0.2704 - val_accuracy: 0.8992\n",
            "Epoch 4/8\n",
            "844/844 [==============================] - 24s 28ms/step - loss: 0.2170 - accuracy: 0.9206 - val_loss: 0.2593 - val_accuracy: 0.9035\n",
            "Epoch 5/8\n",
            "844/844 [==============================] - 24s 28ms/step - loss: 0.1901 - accuracy: 0.9302 - val_loss: 0.2327 - val_accuracy: 0.9128\n",
            "Epoch 6/8\n",
            "844/844 [==============================] - 22s 26ms/step - loss: 0.1702 - accuracy: 0.9378 - val_loss: 0.2460 - val_accuracy: 0.9150\n",
            "Epoch 7/8\n",
            "844/844 [==============================] - 23s 28ms/step - loss: 0.1480 - accuracy: 0.9457 - val_loss: 0.2350 - val_accuracy: 0.9152\n",
            "Epoch 8/8\n",
            "844/844 [==============================] - 23s 28ms/step - loss: 0.1291 - accuracy: 0.9525 - val_loss: 0.2728 - val_accuracy: 0.9070\n"
          ]
        },
        {
          "output_type": "execute_result",
          "data": {
            "text/plain": [
              "<keras.src.callbacks.History at 0x79bda59534f0>"
            ]
          },
          "metadata": {},
          "execution_count": 12
        }
      ]
    },
    {
      "cell_type": "code",
      "source": [
        "model.evaluate(x=x_test,\n",
        "  y=y_test,\n",
        "  batch_size=None,\n",
        "  verbose='auto',\n",
        "  return_dict=True)"
      ],
      "metadata": {
        "colab": {
          "base_uri": "https://localhost:8080/"
        },
        "id": "JICR-ezZ_P1v",
        "outputId": "36c08e6d-2dd4-4028-df8c-b648fe9e3e01"
      },
      "execution_count": 13,
      "outputs": [
        {
          "output_type": "stream",
          "name": "stdout",
          "text": [
            "313/313 [==============================] - 2s 5ms/step - loss: 0.2820 - accuracy: 0.9055\n"
          ]
        },
        {
          "output_type": "execute_result",
          "data": {
            "text/plain": [
              "{'loss': 0.2819877564907074, 'accuracy': 0.9054999947547913}"
            ]
          },
          "metadata": {},
          "execution_count": 13
        }
      ]
    }
  ]
}