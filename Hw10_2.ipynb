{
  "cells": [
    {
      "cell_type": "markdown",
      "metadata": {
        "id": "view-in-github",
        "colab_type": "text"
      },
      "source": [
        "<a href=\"https://colab.research.google.com/github/koc90/part_3_homework_10/blob/main/Hw10_2.ipynb\" target=\"_parent\"><img src=\"https://colab.research.google.com/assets/colab-badge.svg\" alt=\"Open In Colab\"/></a>"
      ]
    },
    {
      "cell_type": "code",
      "execution_count": 1,
      "metadata": {
        "id": "ZxvuDq_j1jNu"
      },
      "outputs": [],
      "source": [
        "from tensorflow import keras\n",
        "from keras.applications.vgg16 import VGG16\n",
        "import numpy as np\n",
        "import matplotlib.pyplot as plt"
      ]
    },
    {
      "cell_type": "code",
      "execution_count": 2,
      "metadata": {
        "id": "mAnTHzTD2Fgw"
      },
      "outputs": [],
      "source": [
        "from keras.datasets import fashion_mnist"
      ]
    },
    {
      "cell_type": "code",
      "execution_count": 3,
      "metadata": {
        "colab": {
          "base_uri": "https://localhost:8080/"
        },
        "id": "9u6YthVX4JFI",
        "outputId": "55d2ccf4-492e-49ea-8825-d898a6127b23"
      },
      "outputs": [
        {
          "output_type": "stream",
          "name": "stdout",
          "text": [
            "Downloading data from https://storage.googleapis.com/tensorflow/tf-keras-datasets/train-labels-idx1-ubyte.gz\n",
            "29515/29515 [==============================] - 0s 0us/step\n",
            "Downloading data from https://storage.googleapis.com/tensorflow/tf-keras-datasets/train-images-idx3-ubyte.gz\n",
            "26421880/26421880 [==============================] - 1s 0us/step\n",
            "Downloading data from https://storage.googleapis.com/tensorflow/tf-keras-datasets/t10k-labels-idx1-ubyte.gz\n",
            "5148/5148 [==============================] - 0s 0us/step\n",
            "Downloading data from https://storage.googleapis.com/tensorflow/tf-keras-datasets/t10k-images-idx3-ubyte.gz\n",
            "4422102/4422102 [==============================] - 0s 0us/step\n"
          ]
        }
      ],
      "source": [
        "(x_train_, y_train), (x_test_, y_test) = fashion_mnist.load_data()\n",
        "assert x_train_.shape == (60000, 28, 28)\n",
        "assert x_test_.shape == (10000, 28, 28)\n",
        "assert y_train.shape == (60000,)\n",
        "assert y_test.shape == (10000,)\n"
      ]
    },
    {
      "cell_type": "code",
      "execution_count": 4,
      "metadata": {
        "colab": {
          "base_uri": "https://localhost:8080/"
        },
        "id": "q4ui-Yqs9ZFb",
        "outputId": "44cc96a3-f6af-46a3-c702-2a6d3bc26129"
      },
      "outputs": [
        {
          "output_type": "execute_result",
          "data": {
            "text/plain": [
              "numpy.ndarray"
            ]
          },
          "metadata": {},
          "execution_count": 4
        }
      ],
      "source": [
        "type(x_train_)"
      ]
    },
    {
      "cell_type": "code",
      "execution_count": 5,
      "metadata": {
        "id": "aO668DZT9CjM"
      },
      "outputs": [],
      "source": [
        "x_train = np.zeros(60000*32*32*3)\n",
        "x_train = x_train.reshape(60000, 32, 32, 3)\n",
        "\n",
        "x_test = np.zeros(10000*32*32*3)\n",
        "x_test = x_test.reshape(10000, 32, 32, 3)\n"
      ]
    },
    {
      "cell_type": "code",
      "execution_count": 6,
      "metadata": {
        "id": "P2eLzW0b-Jzs"
      },
      "outputs": [],
      "source": [
        "for i in range(60000):\n",
        "  for j in range(3):\n",
        "    x_train[i,2:30,2:30,j] = x_train_[i,:,:]"
      ]
    },
    {
      "cell_type": "code",
      "execution_count": 7,
      "metadata": {
        "id": "1PeAIbg7A1HG"
      },
      "outputs": [],
      "source": [
        "for i in range(10000):\n",
        "  for j in range(3):\n",
        "    x_test[i,2:30,2:30,j] = x_test_[i,:,:]"
      ]
    },
    {
      "cell_type": "code",
      "execution_count": 8,
      "metadata": {
        "id": "Rf-qYekZ5RdW"
      },
      "outputs": [],
      "source": [
        "\n",
        "fm_label = {\n",
        "0:\t\"T-shirt/top\",\n",
        "1:\t\"Trouser\",\n",
        "2:\t\"Pullover\",\n",
        "3:\t\"Dress\",\n",
        "4:\t\"Coat\",\n",
        "5:\t\"Sandal\",\n",
        "6:\t\"Shirt\",\n",
        "7:\t\"Sneaker\",\n",
        "8:\t\"Bag\",\n",
        "9:\t\"Ankle boot\"\n",
        "}"
      ]
    },
    {
      "cell_type": "code",
      "execution_count": 9,
      "metadata": {
        "id": "GlSqEVwy40Vm"
      },
      "outputs": [],
      "source": [
        "\n",
        "x_train = x_train.astype(\"float32\") / 255\n",
        "x_test = x_test.astype(\"float32\") / 255\n",
        "y_train = keras.utils.to_categorical(y_train)\n",
        "y_test = keras.utils.to_categorical(y_test)"
      ]
    },
    {
      "cell_type": "code",
      "execution_count": 10,
      "metadata": {
        "colab": {
          "base_uri": "https://localhost:8080/"
        },
        "id": "s-G6Is2u6jnS",
        "outputId": "9f45126d-b43c-4fba-ee09-45b4b538b7df"
      },
      "outputs": [
        {
          "output_type": "stream",
          "name": "stdout",
          "text": [
            "(32, 32, 3)\n"
          ]
        }
      ],
      "source": [
        "input_shape = x_train[0].shape\n",
        "print(input_shape)"
      ]
    },
    {
      "cell_type": "code",
      "execution_count": 11,
      "metadata": {
        "colab": {
          "base_uri": "https://localhost:8080/",
          "height": 447
        },
        "id": "mj3LalhWFCjh",
        "outputId": "4d59a68e-9012-4612-fdfa-0d7eca6bec4a"
      },
      "outputs": [
        {
          "output_type": "execute_result",
          "data": {
            "text/plain": [
              "<matplotlib.image.AxesImage at 0x7a7cc8d10ca0>"
            ]
          },
          "metadata": {},
          "execution_count": 11
        },
        {
          "output_type": "display_data",
          "data": {
            "text/plain": [
              "<Figure size 640x480 with 1 Axes>"
            ],
            "image/png": "[encoded data removed]"
          },
          "metadata": {}
        }
      ],
      "source": [
        "plt.imshow(x_train[0])"
      ]
    },
    {
      "cell_type": "code",
      "execution_count": 12,
      "metadata": {
        "colab": {
          "base_uri": "https://localhost:8080/"
        },
        "id": "2rZqA-ww5YM4",
        "outputId": "804144df-08a0-469f-ace9-9b81b537bb9d"
      },
      "outputs": [
        {
          "output_type": "stream",
          "name": "stdout",
          "text": [
            "Downloading data from https://storage.googleapis.com/tensorflow/keras-applications/vgg16/vgg16_weights_tf_dim_ordering_tf_kernels_notop.h5\n",
            "58889256/58889256 [==============================] - 1s 0us/step\n"
          ]
        }
      ],
      "source": [
        "conv_base = VGG16(weights=\"imagenet\", include_top=False, input_shape=input_shape)\n",
        "conv_base.trainable = False"
      ]
    },
    {
      "cell_type": "code",
      "execution_count": 13,
      "metadata": {
        "id": "DF0YecT16IVX"
      },
      "outputs": [],
      "source": [
        "model = keras.models.Sequential(\n",
        "    [\n",
        "        conv_base,\n",
        "        keras.layers.Flatten(),\n",
        "        keras.layers.Dense(200, activation='relu'),\n",
        "        keras.layers.Dropout(rate=0.01),\n",
        "        keras.layers.Dense(10, activation='softmax')\n",
        "    ]\n",
        ")"
      ]
    },
    {
      "cell_type": "code",
      "execution_count": 14,
      "metadata": {
        "colab": {
          "base_uri": "https://localhost:8080/"
        },
        "id": "w85P9RvUvx2g",
        "outputId": "024415d1-a009-4b27-c7ce-72b31065d2fc"
      },
      "outputs": [
        {
          "output_type": "stream",
          "name": "stdout",
          "text": [
            "Model: \"sequential\"\n",
            "_________________________________________________________________\n",
            " Layer (type)                Output Shape              Param #   \n",
            "=================================================================\n",
            " vgg16 (Functional)          (None, 1, 1, 512)         14714688  \n",
            "                                                                 \n",
            " flatten (Flatten)           (None, 512)               0         \n",
            "                                                                 \n",
            " dense (Dense)               (None, 200)               102600    \n",
            "                                                                 \n",
            " dropout (Dropout)           (None, 200)               0         \n",
            "                                                                 \n",
            " dense_1 (Dense)             (None, 10)                2010      \n",
            "                                                                 \n",
            "=================================================================\n",
            "Total params: 14819298 (56.53 MB)\n",
            "Trainable params: 104610 (408.63 KB)\n",
            "Non-trainable params: 14714688 (56.13 MB)\n",
            "_________________________________________________________________\n"
          ]
        }
      ],
      "source": [
        "model.summary()"
      ]
    },
    {
      "cell_type": "code",
      "execution_count": 15,
      "metadata": {
        "id": "BmhZEGit8_H7"
      },
      "outputs": [],
      "source": [
        "model.compile(optimizer='adam',\n",
        "              loss=\"categorical_crossentropy\",\n",
        "              metrics='accuracy',\n",
        ")"
      ]
    },
    {
      "cell_type": "code",
      "execution_count": 16,
      "metadata": {
        "colab": {
          "base_uri": "https://localhost:8080/"
        },
        "id": "rqsBJQXv9WxX",
        "outputId": "a59cbec3-dbba-4ed8-a0fa-9e659db4bc3d"
      },
      "outputs": [
        {
          "output_type": "stream",
          "name": "stdout",
          "text": [
            "Epoch 1/8\n",
            "844/844 [==============================] - 750s 885ms/step - loss: 0.5902 - accuracy: 0.7921 - val_loss: 0.4676 - val_accuracy: 0.8287\n",
            "Epoch 2/8\n",
            "844/844 [==============================] - 750s 888ms/step - loss: 0.4281 - accuracy: 0.8426 - val_loss: 0.4058 - val_accuracy: 0.8547\n",
            "Epoch 3/8\n",
            "844/844 [==============================] - 748s 887ms/step - loss: 0.3874 - accuracy: 0.8579 - val_loss: 0.4007 - val_accuracy: 0.8583\n",
            "Epoch 4/8\n",
            "844/844 [==============================] - 747s 884ms/step - loss: 0.3666 - accuracy: 0.8648 - val_loss: 0.3791 - val_accuracy: 0.8598\n",
            "Epoch 5/8\n",
            "844/844 [==============================] - 738s 874ms/step - loss: 0.3471 - accuracy: 0.8721 - val_loss: 0.3693 - val_accuracy: 0.8685\n",
            "Epoch 6/8\n",
            "844/844 [==============================] - 745s 883ms/step - loss: 0.3356 - accuracy: 0.8759 - val_loss: 0.3650 - val_accuracy: 0.8695\n",
            "Epoch 7/8\n",
            "844/844 [==============================] - 748s 886ms/step - loss: 0.3227 - accuracy: 0.8808 - val_loss: 0.3450 - val_accuracy: 0.8778\n",
            "Epoch 8/8\n",
            "844/844 [==============================] - 754s 894ms/step - loss: 0.3113 - accuracy: 0.8854 - val_loss: 0.3459 - val_accuracy: 0.8750\n"
          ]
        },
        {
          "output_type": "execute_result",
          "data": {
            "text/plain": [
              "<keras.src.callbacks.History at 0x7a7cc0635c00>"
            ]
          },
          "metadata": {},
          "execution_count": 16
        }
      ],
      "source": [
        "model.fit(x=x_train,\n",
        "          y=y_train,\n",
        "          batch_size=64,\n",
        "          epochs=8,\n",
        "          validation_split=0.1,\n",
        ")"
      ]
    },
    {
      "cell_type": "code",
      "execution_count": 17,
      "metadata": {
        "id": "JICR-ezZ_P1v",
        "colab": {
          "base_uri": "https://localhost:8080/"
        },
        "outputId": "c9c96589-b3f5-469a-c273-5297a7c9b042"
      },
      "outputs": [
        {
          "output_type": "stream",
          "name": "stdout",
          "text": [
            "313/313 [==============================] - 128s 408ms/step - loss: 0.3586 - accuracy: 0.8734\n"
          ]
        },
        {
          "output_type": "execute_result",
          "data": {
            "text/plain": [
              "{'loss': 0.3585570156574249, 'accuracy': 0.8733999729156494}"
            ]
          },
          "metadata": {},
          "execution_count": 17
        }
      ],
      "source": [
        "model.evaluate(x=x_test,\n",
        "  y=y_test,\n",
        "  batch_size=None,\n",
        "  return_dict=True)"
      ]
    }
  ],
  "metadata": {
    "colab": {
      "provenance": [],
      "authorship_tag": "ABX9TyMmgAwnYbYw3VujVyWY/tz5",
      "include_colab_link": true
    },
    "kernelspec": {
      "display_name": "Python 3",
      "name": "python3"
    },
    "language_info": {
      "name": "python"
    }
  },
  "nbformat": 4,
  "nbformat_minor": 0
}